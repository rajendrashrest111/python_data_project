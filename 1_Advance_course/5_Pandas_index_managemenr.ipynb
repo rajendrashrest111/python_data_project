{
 "cells": [
  {
   "cell_type": "code",
   "execution_count": null,
   "id": "8f0e5663",
   "metadata": {},
   "outputs": [],
   "source": [
    "import pandas as pd\n",
    "from datasets import load_dataset\n",
    "import matplotlib.pyplot as plt\n",
    "\n",
    "# loading data\n",
    "dataset = load_dataset('lukebarousse/data_jobs')\n",
    "df = dataset['train'].to_pandas()\n",
    "\n",
    "#Data cleanup\n",
    "df['job_posted_date'] = pd.to_datetime(df['job_posted_date'])"
   ]
  },
  {
   "cell_type": "markdown",
   "id": "e05b2e62",
   "metadata": {},
   "source": [
    "https://github.com/lukebarousse/Python_Data_Analytics_Course/blob/main/2_Advanced/05_Pandas_Index_Management.ipynb"
   ]
  }
 ],
 "metadata": {
  "kernelspec": {
   "display_name": "python_course",
   "language": "python",
   "name": "python3"
  },
  "language_info": {
   "name": "python",
   "version": "3.13.5"
  }
 },
 "nbformat": 4,
 "nbformat_minor": 5
}
