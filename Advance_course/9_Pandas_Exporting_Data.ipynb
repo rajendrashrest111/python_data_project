{
 "cells": [
  {
   "cell_type": "markdown",
   "id": "f3c7c13e",
   "metadata": {},
   "source": [
    "exporting the files in csv, excel or other readable files "
   ]
  },
  {
   "cell_type": "code",
   "execution_count": 2,
   "id": "40faa39b",
   "metadata": {},
   "outputs": [],
   "source": [
    "import pandas as pd\n",
    "from datasets import load_dataset\n",
    "import matplotlib.pyplot as plt\n",
    "import calendar\n",
    "\n",
    "# loading data\n",
    "dataset = load_dataset('lukebarousse/data_jobs')\n",
    "df = dataset['train'].to_pandas()\n",
    "\n",
    "#Data cleanup\n",
    "df['job_posted_date'] = pd.to_datetime(df['job_posted_date'])"
   ]
  },
  {
   "cell_type": "code",
   "execution_count": 19,
   "id": "160fd092",
   "metadata": {},
   "outputs": [],
   "source": [
    "# DataFrame for the job_title 'Data analyst'\n",
    "df_DA = df[df['job_title'] == 'Data analyst'].copy()\n",
    "df_DA['job_posted_month'] = df_DA['job_posted_date'].dt.strftime('%b')\n",
    "\n",
    "months = df_DA['job_posted_month'].unique()\n",
    "# Create a dictionary to hold DataFrames for each month\n",
    "df_DA_months ={}\n",
    "for month in months:\n",
    "    df_DA_months[month] = df_DA[df_DA['job_posted_month'] == month].copy()\n",
    "\n",
    "quarter_1 = [df_DA_months['Jan'], df_DA_months['Feb'], df_DA_months['Mar']]\n",
    "df_concat = pd.concat(quarter_1, ignore_index=True)\n",
    "\n"
   ]
  },
  {
   "cell_type": "code",
   "execution_count": 14,
   "id": "1a9567af",
   "metadata": {},
   "outputs": [],
   "source": [
    "# saving the dataframe in csv file\n",
    "df_concat.to_csv('Data_analyst_Q1_2023.csv', index=False)"
   ]
  }
 ],
 "metadata": {
  "kernelspec": {
   "display_name": "python_course",
   "language": "python",
   "name": "python3"
  },
  "language_info": {
   "codemirror_mode": {
    "name": "ipython",
    "version": 3
   },
   "file_extension": ".py",
   "mimetype": "text/x-python",
   "name": "python",
   "nbconvert_exporter": "python",
   "pygments_lexer": "ipython3",
   "version": "3.13.5"
  }
 },
 "nbformat": 4,
 "nbformat_minor": 5
}
